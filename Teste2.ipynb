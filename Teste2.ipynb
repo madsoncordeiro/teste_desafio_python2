{
  "nbformat": 4,
  "nbformat_minor": 0,
  "metadata": {
    "colab": {
      "provenance": []
    },
    "kernelspec": {
      "name": "python3",
      "display_name": "Python 3"
    },
    "language_info": {
      "name": "python"
    }
  },
  "cells": [
    {
      "cell_type": "code",
      "execution_count": 1,
      "metadata": {
        "colab": {
          "base_uri": "https://localhost:8080/"
        },
        "id": "l9TQjEEBkfbv",
        "outputId": "a52730f0-1ade-4748-85a9-637851cb12b6"
      },
      "outputs": [
        {
          "output_type": "stream",
          "name": "stdout",
          "text": [
            "91\n"
          ]
        }
      ],
      "source": [
        "'''\n",
        "1) Observe o trecho de código abaixo:\n",
        "\n",
        "int INDICE = 13, SOMA = 0, K = 0;\n",
        "\n",
        "enquanto K < INDICE faça\n",
        "\n",
        "{\n",
        "\n",
        "K = K + 1;\n",
        "\n",
        "SOMA = SOMA + K;\n",
        "\n",
        "}\n",
        "\n",
        "imprimir(SOMA);\n",
        "\n",
        "\n",
        "\n",
        "Ao final do processamento, qual será o valor da variável SOMA?\n",
        "\n",
        "'''\n",
        "\n",
        "INDICE = int(13)\n",
        "SOMA = int(0)\n",
        "K = int(0)\n",
        "\n",
        "while K < INDICE:\n",
        "  K = K + 1\n",
        "  SOMA = SOMA + K\n",
        "\n",
        "print(SOMA)"
      ]
    },
    {
      "cell_type": "code",
      "source": [
        "'''\n",
        "2) Dado a sequência de Fibonacci, onde se inicia por 0 e 1 e o próximo valor sempre será a soma dos 2 valores anteriores \n",
        "(exemplo: 0, 1, 1, 2, 3, 5, 8, 13, 21, 34...), escreva um programa na linguagem que desejar onde, informado um número, ele calcule a sequência \n",
        "de Fibonacci e retorne uma mensagem avisando se o número informado pertence ou não a sequência.\n",
        "\n",
        "\n",
        "\n",
        "IMPORTANTE:\n",
        "\n",
        "Esse número pode ser informado através de qualquer entrada de sua preferência ou pode ser previamente definido no código;\n",
        "'''\n",
        "\n",
        "numero = int(input(\"Digite um número para avaliar se ele está em um sequência Fibonacci: \"))\n",
        "\n",
        "fibonacci = [0, 1]\n",
        "\n",
        "while fibonacci[-1] < numero:\n",
        "    fibonacci.append(fibonacci[-1] + fibonacci[-2])\n",
        "\n",
        "if numero in fibonacci:\n",
        "    print(f\"O {numero} está dentro da sequência Fibonacci {fibonacci}. \")\n",
        "else:\n",
        "    print(f\"O {numero} não está dentro da sequência Fibonacci {fibonacci}. \")"
      ],
      "metadata": {
        "colab": {
          "base_uri": "https://localhost:8080/"
        },
        "id": "90UFUBqfkyxl",
        "outputId": "d84bb5a9-65bc-4e49-dabc-fccaf37c3cae"
      },
      "execution_count": 2,
      "outputs": [
        {
          "output_type": "stream",
          "name": "stdout",
          "text": [
            "Digite um número para avaliar se ele está em um sequência Fibonacci: 862\n",
            "O 862 não está dentro da sequência Fibonacci [0, 1, 1, 2, 3, 5, 8, 13, 21, 34, 55, 89, 144, 233, 377, 610, 987]. \n"
          ]
        }
      ]
    },
    {
      "cell_type": "code",
      "source": [
        "'''\n",
        "3) Descubra a lógica e complete o próximo elemento:\n",
        "\n",
        "\n",
        "\n",
        "a) 1, 3, 5, 7, ___\n",
        "\n",
        "b) 2, 4, 8, 16, 32, 64, ____\n",
        "\n",
        "c) 0, 1, 4, 9, 16, 25, 36, ____\n",
        "\n",
        "d) 4, 16, 36, 64, ____\n",
        "\n",
        "e) 1, 1, 2, 3, 5, 8, ____\n",
        "\n",
        "f) 2,10, 12, 16, 17, 18, 19, ____\n",
        "'''\n",
        "\n",
        "# a) 1, 3, 5, 7, ___\n",
        "print(\"a) 1, 3, 5, 7, ___ \")\n",
        "numero = 1\n",
        "for i in range(4):\n",
        "    numero += 2\n",
        "    print(numero)\n",
        "print(\"\\n\")\n",
        "\n",
        "# b) 2, 4, 8, 16, 32, 64, ____\n",
        "print(\"b) 2, 4, 8, 16, 32, 64, ____ \")\n",
        "numero = 2\n",
        "for i in range(6):\n",
        "    numero *= 2\n",
        "    print(numero)\n",
        "print(\"\\n\")\n",
        "\n",
        "# c) 0, 1, 4, 9, 16, 25, 36, ____\n",
        "print(\"c) 0, 1, 4, 9, 16, 25, 36, ____ \")\n",
        "for i in range(8):\n",
        "    print(i**2)\n",
        "print(\"\\n\")\n",
        "\n",
        "# d) 4, 16, 36, 64, ____\n",
        "print(\"d) 4, 16, 36, 64, ____ \")\n",
        "for i in range(4):\n",
        "    print((i*4)**2)\n",
        "print(\"\\n\")\n",
        "\n",
        "# e) 1, 1, 2, 3, 5, 8, ____\n",
        "print(\"e) 1, 1, 2, 3, 5, 8, ____ \")\n",
        "numero1, numero2 = 1, 1\n",
        "print(numero1)\n",
        "print(numero2)\n",
        "for i in range(5):\n",
        "    numero3 = numero1 + numero2\n",
        "    print(numero3)\n",
        "    numero1 = numero2\n",
        "    numero2 = numero3\n",
        "print(\"\\n\")\n",
        "\n",
        "# f) 2 ,10, 12, 16, 17, 18, 19, ____\n",
        "print(\"f) 2 ,10, 12, 16, 17, 18, 19, ____ \")\n",
        "numero = 2\n",
        "incremento = [8, 2, 4, 1, 1, 1, 1]\n",
        "for i in range(7):\n",
        "    numero += incremento[i]\n",
        "    print(numero)\n",
        "print(\"\\n\")\n"
      ],
      "metadata": {
        "colab": {
          "base_uri": "https://localhost:8080/"
        },
        "id": "ti765aIwlJpT",
        "outputId": "cf922e53-69d2-46b2-830e-a1fd5d6b50a2"
      },
      "execution_count": 10,
      "outputs": [
        {
          "output_type": "stream",
          "name": "stdout",
          "text": [
            "a) 1, 3, 5, 7, ___ \n",
            "3\n",
            "5\n",
            "7\n",
            "9\n",
            "\n",
            "\n",
            "b) 2, 4, 8, 16, 32, 64, ____ \n",
            "4\n",
            "8\n",
            "16\n",
            "32\n",
            "64\n",
            "128\n",
            "\n",
            "\n",
            "c) 0, 1, 4, 9, 16, 25, 36, ____ \n",
            "0\n",
            "1\n",
            "4\n",
            "9\n",
            "16\n",
            "25\n",
            "36\n",
            "49\n",
            "\n",
            "\n",
            "d) 4, 16, 36, 64, ____ \n",
            "0\n",
            "16\n",
            "64\n",
            "144\n",
            "\n",
            "\n",
            "e) 1, 1, 2, 3, 5, 8, ____ \n",
            "1\n",
            "1\n",
            "2\n",
            "3\n",
            "5\n",
            "8\n",
            "13\n",
            "\n",
            "\n",
            "f) 2 ,10, 12, 16, 17, 18, 19, ____ \n",
            "10\n",
            "12\n",
            "16\n",
            "17\n",
            "18\n",
            "19\n",
            "20\n",
            "\n",
            "\n"
          ]
        }
      ]
    },
    {
      "cell_type": "code",
      "source": [
        "'''\n",
        "4 - Dois veículos (um carro e um caminhão) saem respectivamente de cidades opostas pela mesma rodovia. O carro de Ribeirão Preto em direção a \n",
        "Franca, a uma velocidade constante de 110 km/h e o caminhão de Franca em direção a Ribeirão Preto a uma velocidade constante de 80 km/h. \n",
        "Quando eles se cruzarem na rodovia, qual estará mais próximo a cidade de Ribeirão Preto?\n",
        "\n",
        "\n",
        "\n",
        "IMPORTANTE:\n",
        "\n",
        "a) Considerar a distância de 100km entre a cidade de Ribeirão Preto <-> Franca.\n",
        "\n",
        "b) Considerar 2 pedágios como obstáculo e que o caminhão leva 5 minutos a mais para passar em cada um deles e o carro possui tag de \n",
        "pedágio (Sem Parar)\n",
        "\n",
        "c) Explique como chegou no resultado.\n",
        "'''"
      ],
      "metadata": {
        "id": "LY9bbvxdrj0H"
      },
      "execution_count": null,
      "outputs": []
    },
    {
      "cell_type": "code",
      "source": [
        "'''\n",
        "5) Escreva um programa que inverta os caracteres de um string.\n",
        "\n",
        "\n",
        "\n",
        "IMPORTANTE:\n",
        "\n",
        "a) Essa string pode ser informada através de qualquer entrada de sua preferência ou pode ser previamente definida no código;\n",
        "\n",
        "b) Evite usar funções prontas, como, por exemplo, reverse;\n",
        "'''\n",
        "\n",
        "string = input(\"Digite uma palavra ou uma frase: \")\n",
        "\n",
        "print(string[::-1])"
      ],
      "metadata": {
        "colab": {
          "base_uri": "https://localhost:8080/"
        },
        "id": "WAHIQ5SQtHEa",
        "outputId": "937aeb82-5cc7-4e54-b3e3-b07c0055e240"
      },
      "execution_count": 11,
      "outputs": [
        {
          "output_type": "stream",
          "name": "stdout",
          "text": [
            "Digite uma palavra ou uma frase: Madson Cordeiro\n",
            "oriedroC nosdaM\n"
          ]
        }
      ]
    }
  ]
}